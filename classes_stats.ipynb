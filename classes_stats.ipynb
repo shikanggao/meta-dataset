{
 "cells": [
  {
   "cell_type": "code",
   "execution_count": 3,
   "metadata": {},
   "outputs": [
    {
     "name": "stdout",
     "output_type": "stream",
     "text": [
      "Number of classes:  125\n",
      "product box\n",
      "{1: 77,\n",
      " 2: 19,\n",
      " 3: 8,\n",
      " 4: 6,\n",
      " 5: 1,\n",
      " 6: 2,\n",
      " 7: 2,\n",
      " 8: 1,\n",
      " 9: 2,\n",
      " 10: 2,\n",
      " 13: 1,\n",
      " 14: 1,\n",
      " 19: 1,\n",
      " 20: 1,\n",
      " 24: 1}\n"
     ]
    }
   ],
   "source": [
    "import os\n",
    "from pprint import pprint\n",
    "\n",
    "\n",
    "work_dir = \"/home/shikang/dev/meta-dataset/datasrc/synthetic_objects\"\n",
    "# work_dir = \"/home/shikang/dev/meta-dataset/datasrc/omniglot\"\n",
    "\n",
    "classes = {}\n",
    "\n",
    "for root, dirs, _ in os.walk(work_dir, topdown=False):\n",
    "  # For each object\n",
    "  for dir in dirs:\n",
    "    class_name = \"\"\n",
    "    with open(os.path.join(root, dir, \"name.txt\")) as f:\n",
    "      class_name = f.read()\n",
    "    if not class_name in classes:\n",
    "      classes[class_name] = []\n",
    "    classes[class_name].append(dir)\n",
    "\n",
    "print(\"Number of classes: \", len(classes))\n",
    "# print(\"Number of objects: \", len([item for sublist in classes.values() for item in sublist]))\n",
    "\n",
    "class_cnt = {}\n",
    "\n",
    "for class_name in classes:\n",
    "  cnt = len(classes[class_name])\n",
    "  if not cnt in class_cnt:\n",
    "    class_cnt[cnt] = []\n",
    "  if cnt == 24:\n",
    "    print(class_name)\n",
    "  class_cnt[cnt].append(class_name)\n",
    "\n",
    "# pprint(class_cnt)\n",
    "pprint({k: len(v) for k, v in class_cnt.items()})\n",
    "\n",
    "\n",
    "\n",
    "\n",
    "# TODO: Figure out Train, valid, test class numbers. If a class has multiple objects, then it might be harder for the algorithms to classify\n",
    "      "
   ]
  },
  {
   "cell_type": "code",
   "execution_count": null,
   "metadata": {},
   "outputs": [],
   "source": []
  }
 ],
 "metadata": {
  "interpreter": {
   "hash": "599fb9b9b9c38c3eb6376951df75fe3b1d10348c9eed85dba9cd5567736ede54"
  },
  "kernelspec": {
   "display_name": "Python 3.8.11 64-bit ('base': conda)",
   "name": "python3"
  },
  "language_info": {
   "codemirror_mode": {
    "name": "ipython",
    "version": 3
   },
   "file_extension": ".py",
   "mimetype": "text/x-python",
   "name": "python",
   "nbconvert_exporter": "python",
   "pygments_lexer": "ipython3",
   "version": "3.8.11"
  },
  "orig_nbformat": 4
 },
 "nbformat": 4,
 "nbformat_minor": 2
}
